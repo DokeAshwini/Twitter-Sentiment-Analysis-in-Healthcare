{
 "cells": [
  {
   "cell_type": "code",
   "execution_count": null,
   "metadata": {
    "application/vnd.databricks.v1+cell": {
     "cellMetadata": {
      "byteLimit": 2048000,
      "rowLimit": 10000
     },
     "inputWidgets": {},
     "nuid": "09a78ac0-0387-454f-afe6-250dcdb30308",
     "showTitle": false,
     "title": ""
    }
   },
   "outputs": [
    {
     "data": {
      "application/vnd.databricks.v1+bamboolib_hint": "{\"pd.DataFrames\": [], \"version\": \"0.0.1\"}",
      "text/plain": []
     },
     "metadata": {},
     "output_type": "display_data"
    },
    {
     "name": "stderr",
     "output_type": "stream",
     "text": [
      "[nltk_data] Downloading package vader_lexicon to\n",
      "[nltk_data]     /home/spark-889f4fe4-99ea-4b83-9c6a-e4/nltk_data...\n"
     ]
    },
    {
     "name": "stdout",
     "output_type": "stream",
     "text": [
      "Out[1]: True"
     ]
    }
   ],
   "source": [
    "import pandas as pd\n",
    "\n",
    "from pyspark.sql import SparkSession\n",
    "from pyspark.sql.types import StringType, ArrayType, LongType, StructType, StructField, TimestampType\n",
    "\n",
    "import re\n",
    "import pyspark.sql.functions as F\n",
    "import matplotlib.pyplot as plt\n",
    "import seaborn as sns\n",
    "\n",
    "import nltk\n",
    "from nltk.stem.snowball import SnowballStemmer\n",
    "from nltk.sentiment.vader import SentimentIntensityAnalyzer\n",
    "from pyspark.ml.feature import StringIndexer, OneHotEncoder, VectorAssembler, Tokenizer, CountVectorizer\n",
    "from pyspark.ml.classification import NaiveBayes, DecisionTreeClassifier\n",
    "from pyspark.ml.tuning import ParamGridBuilder, CrossValidator\n",
    "from pyspark.ml.evaluation import MulticlassClassificationEvaluator\n",
    "from pyspark.ml import Pipeline\n",
    "\n",
    "nltk.download('vader_lexicon')"
   ]
  },
  {
   "cell_type": "code",
   "execution_count": null,
   "metadata": {
    "application/vnd.databricks.v1+cell": {
     "cellMetadata": {
      "byteLimit": 2048000,
      "rowLimit": 10000
     },
     "inputWidgets": {},
     "nuid": "451d055a-a180-4c0e-9f97-9ed01476e1ea",
     "showTitle": false,
     "title": ""
    }
   },
   "outputs": [],
   "source": [
    "# Create a spark session \n",
    "\n",
    "spark = SparkSession.builder.appName(\"myApp\")\\\n",
    "      .config(\"spark.driver.memory\", \"4g\") \\\n",
    "      .config(\"spark.executor.memory\", \"4g\") \\\n",
    "      .config(\"spark.sql.legacy.timeParserPolicy\", \"LEGACY\")\\\n",
    "      .getOrCreate()"
   ]
  },
  {
   "attachments": {},
   "cell_type": "markdown",
   "metadata": {
    "application/vnd.databricks.v1+cell": {
     "cellMetadata": {
      "byteLimit": 2048000,
      "rowLimit": 10000
     },
     "inputWidgets": {},
     "nuid": "e88cf76e-217a-41bf-b6b3-e6e1aa152d89",
     "showTitle": false,
     "title": ""
    }
   },
   "source": [
    "## Loading and Understanding the Data"
   ]
  },
  {
   "cell_type": "code",
   "execution_count": null,
   "metadata": {
    "application/vnd.databricks.v1+cell": {
     "cellMetadata": {
      "byteLimit": 2048000,
      "rowLimit": 10000
     },
     "inputWidgets": {},
     "nuid": "bdf373b9-e13e-4bc0-909e-736df4e0e944",
     "showTitle": false,
     "title": ""
    }
   },
   "outputs": [],
   "source": [
    "# Define a schema for the DataFrame\n",
    "schema = StructType([\n",
    "    StructField(\"Tweet ID\", StringType(), True),\n",
    "    StructField(\"Time Posted\", StringType(), True),\n",
    "    StructField(\"Tweet Content\", StringType(), True),\n",
    "    StructField(\"Publication\", StringType(), True)\n",
    "])\n",
    "\n",
    "# Load the text files into a DataFrame using Spark\n",
    "files = ['bbchealth', 'cbchealth', 'cnnhealth', 'everydayhealth', \\\n",
    "        'foxnewshealth', 'gdnhealthcare', 'goodhealth', 'KaiserHealthNews', \\\n",
    "        'latimeshealth', 'msnhealthnews', 'NBChealth', 'nprhealth', \\\n",
    "        'nytimeshealth', 'reuters_health', 'usnewshealth', 'wsjhealth']\n",
    "\n",
    "dfs = []\n",
    "\n",
    "for file in files:\n",
    "    path = '/mnt/team8/' + file + '.txt'\n",
    "    new_file = spark.read.option(\"delimiter\", \"|\").csv(path, schema=schema, header=False)\n",
    "    new_file = new_file.withColumn(\"Publication\", F.lit(file))\n",
    "    dfs.append(new_file)\n",
    "\n",
    "df = dfs[0]\n",
    "for i in range(1, len(dfs)):\n",
    "    df = df.union(dfs[i])"
   ]
  },
  {
   "cell_type": "code",
   "execution_count": null,
   "metadata": {
    "application/vnd.databricks.v1+cell": {
     "cellMetadata": {
      "byteLimit": 2048000,
      "rowLimit": 10000
     },
     "inputWidgets": {},
     "nuid": "79fa1f16-bb75-4216-a9f4-102d921769bf",
     "showTitle": false,
     "title": ""
    }
   },
   "outputs": [
    {
     "name": "stdout",
     "output_type": "stream",
     "text": [
      "+------------------+--------------------+--------------------+-----------+\n",
      "|          Tweet ID|         Time Posted|       Tweet Content|Publication|\n",
      "+------------------+--------------------+--------------------+-----------+\n",
      "|585978391360221184|Thu Apr 09 01:31:...|Breast cancer ris...|  bbchealth|\n",
      "|585947808772960257|Wed Apr 08 23:30:...|GP workload harmi...|  bbchealth|\n",
      "|585947807816650752|Wed Apr 08 23:30:...|Short people's 'h...|  bbchealth|\n",
      "|585866060991078401|Wed Apr 08 18:05:...|New approach agai...|  bbchealth|\n",
      "|585794106170839041|Wed Apr 08 13:19:...|Coalition 'underm...|  bbchealth|\n",
      "|585733482413891584|Wed Apr 08 09:18:...|Review of case ag...|  bbchealth|\n",
      "|585733481608646657|Wed Apr 08 09:18:...|VIDEO: 'All day i...|  bbchealth|\n",
      "|585701601131765761|Wed Apr 08 07:11:...|VIDEO: 'Overhaul ...|  bbchealth|\n",
      "|585620828110397440|Wed Apr 08 01:51:...|Care for dying 'n...|  bbchealth|\n",
      "|585437294120677376|Tue Apr 07 13:41:...|VIDEO: NHS: Labou...|  bbchealth|\n",
      "+------------------+--------------------+--------------------+-----------+\n",
      "only showing top 10 rows\n",
      "\n"
     ]
    }
   ],
   "source": [
    "df.cache()\n",
    "\n",
    "df.show(10)"
   ]
  },
  {
   "cell_type": "code",
   "execution_count": null,
   "metadata": {
    "application/vnd.databricks.v1+cell": {
     "cellMetadata": {
      "byteLimit": 2048000,
      "rowLimit": 10000
     },
     "inputWidgets": {},
     "nuid": "703634f9-298d-437f-8558-8ae8d3211273",
     "showTitle": false,
     "title": ""
    }
   },
   "outputs": [
    {
     "name": "stdout",
     "output_type": "stream",
     "text": [
      "root\n",
      " |-- Tweet ID: string (nullable = true)\n",
      " |-- Time Posted: string (nullable = true)\n",
      " |-- Tweet Content: string (nullable = true)\n",
      " |-- Publication: string (nullable = false)\n",
      "\n"
     ]
    }
   ],
   "source": [
    "df.cache()\n",
    "\n",
    "df.printSchema()"
   ]
  },
  {
   "attachments": {},
   "cell_type": "markdown",
   "metadata": {
    "application/vnd.databricks.v1+cell": {
     "cellMetadata": {
      "byteLimit": 2048000,
      "rowLimit": 10000
     },
     "inputWidgets": {},
     "nuid": "65b07ce1-a448-4737-8731-afac4e66b117",
     "showTitle": false,
     "title": ""
    }
   },
   "source": [
    "## Preprocessing the Data"
   ]
  },
  {
   "cell_type": "code",
   "execution_count": null,
   "metadata": {
    "application/vnd.databricks.v1+cell": {
     "cellMetadata": {
      "byteLimit": 2048000,
      "rowLimit": 10000
     },
     "inputWidgets": {},
     "nuid": "2986f0cb-743a-42da-9dee-71c4bddafe22",
     "showTitle": false,
     "title": ""
    }
   },
   "outputs": [],
   "source": [
    "# Define the date format string\n",
    "date_format = \"EEE MMM dd HH:mm:ss Z yyyy\"\n",
    "\n",
    "# Convert the 'Time Posted' feature into a timestamp\n",
    "df = df.withColumn(\"created_at_timestamp\", F.to_utc_timestamp(F.unix_timestamp(\"Time Posted\", date_format).cast(\"timestamp\"), \"UTC\"))\n",
    "\n",
    "# Create separate features for year and month\n",
    "df = df.withColumn(\"Year\", F.year(\"created_at_timestamp\")) \\\n",
    "       .withColumn(\"Month\", F.month(\"created_at_timestamp\"))"
   ]
  },
  {
   "cell_type": "code",
   "execution_count": null,
   "metadata": {
    "application/vnd.databricks.v1+cell": {
     "cellMetadata": {
      "byteLimit": 2048000,
      "rowLimit": 10000
     },
     "inputWidgets": {},
     "nuid": "ece8b82e-df31-4d9a-9967-0d1a0682bc38",
     "showTitle": false,
     "title": ""
    }
   },
   "outputs": [
    {
     "name": "stdout",
     "output_type": "stream",
     "text": [
      "+--------------------+-----------+----+-----+\n",
      "|       Tweet Content|Publication|Year|Month|\n",
      "+--------------------+-----------+----+-----+\n",
      "|Breast cancer ris...|  bbchealth|2015|    4|\n",
      "|GP workload harmi...|  bbchealth|2015|    4|\n",
      "|Short people's 'h...|  bbchealth|2015|    4|\n",
      "|New approach agai...|  bbchealth|2015|    4|\n",
      "|Coalition 'underm...|  bbchealth|2015|    4|\n",
      "|Review of case ag...|  bbchealth|2015|    4|\n",
      "|VIDEO: 'All day i...|  bbchealth|2015|    4|\n",
      "|VIDEO: 'Overhaul ...|  bbchealth|2015|    4|\n",
      "|Care for dying 'n...|  bbchealth|2015|    4|\n",
      "|VIDEO: NHS: Labou...|  bbchealth|2015|    4|\n",
      "+--------------------+-----------+----+-----+\n",
      "only showing top 10 rows\n",
      "\n"
     ]
    }
   ],
   "source": [
    "#Remove unnecessary features\n",
    "df = df.drop(\"Tweet ID\", \"Time Posted\", \"timestamp\", \"created_at_timestamp\")\n",
    "df.show(10)"
   ]
  },
  {
   "cell_type": "code",
   "execution_count": null,
   "metadata": {
    "application/vnd.databricks.v1+cell": {
     "cellMetadata": {
      "byteLimit": 2048000,
      "rowLimit": 10000
     },
     "inputWidgets": {},
     "nuid": "4133b522-1b24-4a6c-baf3-6110dfa6452c",
     "showTitle": false,
     "title": ""
    }
   },
   "outputs": [
    {
     "name": "stdout",
     "output_type": "stream",
     "text": [
      "+----------------------------------------------------------------------------------------------+\n",
      "|tokenized_words                                                                               |\n",
      "+----------------------------------------------------------------------------------------------+\n",
      "|[Breast, cancer, risk, test, devised, http://bbc.in/1CimpJF]                                  |\n",
      "|[GP, workload, harming, care, -, BMA, poll, http://bbc.in/1ChTBRv]                            |\n",
      "|[Short, people's, ', heart, risk, greater, ', http://bbc.in/1ChTANp]                          |\n",
      "|[New, approach, against, HIV, ', promising, ', http://bbc.in/1E6jAjt]                         |\n",
      "|[Coalition, ', undermined, NHS, ', -, doctors, http://bbc.in/1CnLwK7]                         |\n",
      "|[Review, of, case, against, NHS, manager, http://bbc.in/1Ffj6ci]                              |\n",
      "|[VIDEO, :, ', All, day, is, empty, ,, what, am, I, going, to, do, ?, ', http://bbc.in/1N7wSSz]|\n",
      "|[VIDEO, :, ', Overhaul, needed, ', for, end-of-life, care, http://bbc.in/1CmrRu3]             |\n",
      "|[Care, for, dying, ', needs, overhaul, ', http://bbc.in/1FdSGrl]                              |\n",
      "|[VIDEO, :, NHS, :, Labour, and, Tory, key, policies, http://bbc.in/1Ci5eqD]                   |\n",
      "+----------------------------------------------------------------------------------------------+\n",
      "only showing top 10 rows\n",
      "\n"
     ]
    }
   ],
   "source": [
    "# Define tokenizer\n",
    "tokenizer = nltk.tokenize.TweetTokenizer()\n",
    "\n",
    "# Define a method to tokenize values in the tweet content feature\n",
    "def tokenize_text(text):\n",
    "    if isinstance(text, str):\n",
    "        return tokenizer.tokenize(text)\n",
    "    else:\n",
    "        return []\n",
    "\n",
    "# Define a UDF for tokenizer \n",
    "tokenize_udf = F.udf(tokenize_text, ArrayType(StringType()))\n",
    "\n",
    "# Apply the UDF to the 'Tweet Content' feature and create a new feature 'tokenized_words'\n",
    "df = df.withColumn(\"tokenized_words\", tokenize_udf(\"Tweet Content\"))\n",
    "\n",
    "\n",
    "# Show first 10 rows\n",
    "df.select(\"tokenized_words\").show(10, truncate=False)"
   ]
  },
  {
   "cell_type": "code",
   "execution_count": null,
   "metadata": {
    "application/vnd.databricks.v1+cell": {
     "cellMetadata": {
      "byteLimit": 2048000,
      "rowLimit": 10000
     },
     "inputWidgets": {},
     "nuid": "3c9527d6-e98f-4753-8e22-ea6eed6ec648",
     "showTitle": false,
     "title": ""
    }
   },
   "outputs": [
    {
     "name": "stdout",
     "output_type": "stream",
     "text": [
      "+----------------------------------------------------------+-----------+----+-----+---------------------------------------------------------------------+------------------------------------------------------------------+\n",
      "|Tweet Content                                             |Publication|Year|Month|tokenized_words                                                      |stemmed_words                                                     |\n",
      "+----------------------------------------------------------+-----------+----+-----+---------------------------------------------------------------------+------------------------------------------------------------------+\n",
      "|Breast cancer risk test devised http://bbc.in/1CimpJF     |bbchealth  |2015|4    |[Breast, cancer, risk, test, devised, http://bbc.in/1CimpJF]         |[breast, cancer, risk, test, devis, http://bbc.in/1cimpjf]        |\n",
      "|GP workload harming care - BMA poll http://bbc.in/1ChTBRv |bbchealth  |2015|4    |[GP, workload, harming, care, -, BMA, poll, http://bbc.in/1ChTBRv]   |[gp, workload, harm, care, -, bma, poll, http://bbc.in/1chtbrv]   |\n",
      "|Short people's 'heart risk greater' http://bbc.in/1ChTANp |bbchealth  |2015|4    |[Short, people's, ', heart, risk, greater, ', http://bbc.in/1ChTANp] |[short, peopl, ', heart, risk, greater, ', http://bbc.in/1chtanp] |\n",
      "|New approach against HIV 'promising' http://bbc.in/1E6jAjt|bbchealth  |2015|4    |[New, approach, against, HIV, ', promising, ', http://bbc.in/1E6jAjt]|[new, approach, against, hiv, ', promis, ', http://bbc.in/1e6jajt]|\n",
      "|Coalition 'undermined NHS' - doctors http://bbc.in/1CnLwK7|bbchealth  |2015|4    |[Coalition, ', undermined, NHS, ', -, doctors, http://bbc.in/1CnLwK7]|[coalit, ', undermin, nhs, ', -, doctor, http://bbc.in/1cnlwk7]   |\n",
      "+----------------------------------------------------------+-----------+----+-----+---------------------------------------------------------------------+------------------------------------------------------------------+\n",
      "only showing top 5 rows\n",
      "\n"
     ]
    }
   ],
   "source": [
    "# Define the stemmer to use in preprocessing\n",
    "stemmer = SnowballStemmer(language='english')\n",
    "\n",
    "# Define a stemmer function for stemming the tokenized words\n",
    "def stem_words(tokens):\n",
    "  return [stemmer.stem(token) for token in tokens]\n",
    "\n",
    "# Define a UDF for stemming\n",
    "stem_words_udf = F.udf(stem_words, ArrayType(StringType()))\n",
    "\n",
    "# Apply the UDF on tokenized_words feature\n",
    "df = df.withColumn(\"stemmed_words\", stem_words_udf(F.col(\"tokenized_words\")))\n",
    "\n",
    "# Display the first 5 rows of the preprocessed data\n",
    "df.show(5, truncate=False)"
   ]
  },
  {
   "cell_type": "code",
   "execution_count": null,
   "metadata": {
    "application/vnd.databricks.v1+cell": {
     "cellMetadata": {
      "byteLimit": 2048000,
      "rowLimit": 10000
     },
     "inputWidgets": {},
     "nuid": "e9457ed0-9001-47b2-b233-c9a60e2b76d7",
     "showTitle": false,
     "title": ""
    }
   },
   "outputs": [],
   "source": [
    "# Define a lemmatizer method for performing lemmitization\n",
    "def lemmatize(word_list):\n",
    "    lemmatized_list = []\n",
    "    for word in word_list:\n",
    "        if word.endswith('s'):\n",
    "            if word.endswith('ss'):\n",
    "                lemmatized_word = word\n",
    "            elif word.endswith('ies'):\n",
    "                lemmatized_word = word[:-3] + 'y'\n",
    "            else:\n",
    "                lemmatized_word = word[:-1]\n",
    "        elif word.endswith('ing'):\n",
    "            if len(word) > 5:\n",
    "                if word[-4] == word[-5]:\n",
    "                    lemmatized_word = word[:-4]\n",
    "                else:\n",
    "                    lemmatized_word = word[:-3] + 'e'\n",
    "            else:\n",
    "                lemmatized_word = word[:-3]\n",
    "        elif word.endswith('ed'):\n",
    "            if len(word) > 4:\n",
    "                if word[-3] == word[-4]:\n",
    "                    lemmatized_word = word[:-3]\n",
    "                else:\n",
    "                    lemmatized_word = word[:-2] + 'e'\n",
    "            else:\n",
    "                lemmatized_word = word[:-2]\n",
    "        else:\n",
    "            lemmatized_word = word\n",
    "        lemmatized_list.append(lemmatized_word)\n",
    "    return lemmatized_list\n",
    "\n",
    "# Define a UDF for lemmatizing words\n",
    "lemmatize_udf = F.udf(lemmatize, ArrayType(StringType()))\n",
    "\n",
    "# Apply the UDF to stemmed_words feature\n",
    "df = df.withColumn('lemmatized_words', lemmatize_udf(df['stemmed_words']))"
   ]
  },
  {
   "cell_type": "code",
   "execution_count": null,
   "metadata": {
    "application/vnd.databricks.v1+cell": {
     "cellMetadata": {
      "byteLimit": 2048000,
      "rowLimit": 10000
     },
     "inputWidgets": {},
     "nuid": "e5c287cb-5116-4d5b-980b-bda3d3860e39",
     "showTitle": false,
     "title": ""
    }
   },
   "outputs": [],
   "source": [
    "# Define a regex to remove punctuation\n",
    "pattern = re.compile('[^\\w\\s]')\n",
    "\n",
    "# Apply the regex pattern and convert all words to lowercase\n",
    "def no_punc_lower_words(words):\n",
    "  return [pattern.sub('', word.lower()) for word in words]\n",
    "\n",
    "# Define a udf to remove punctuation and lowercase the words\n",
    "no_punc_lower_udf = F.udf(no_punc_lower_words, StringType())\n",
    "\n",
    "# Apply the UDF to lemmatized_words feature\n",
    "df = df.withColumn('no_punc_lower_words', no_punc_lower_udf(df['lemmatized_words']))"
   ]
  },
  {
   "cell_type": "code",
   "execution_count": null,
   "metadata": {
    "application/vnd.databricks.v1+cell": {
     "cellMetadata": {
      "byteLimit": 2048000,
      "rowLimit": 10000
     },
     "inputWidgets": {},
     "nuid": "367ca6f3-c252-41c8-ab1b-ae5b1089a970",
     "showTitle": false,
     "title": ""
    }
   },
   "outputs": [],
   "source": [
    "# Tokenize the 'no_punc_lower_words' feature into a feature of lists of words\n",
    "tokenizer = Tokenizer(inputCol=\"no_punc_lower_words\", outputCol=\"words\")\n",
    "df = tokenizer.transform(df)\n",
    "\n",
    "# Convert the list of words into a bag-of-words representation using CountVectorizer\n",
    "cv = CountVectorizer(inputCol=\"words\", outputCol=\"bag_of_words\")\n",
    "model = cv.fit(df)\n",
    "df = model.transform(df)"
   ]
  },
  {
   "cell_type": "code",
   "execution_count": null,
   "metadata": {
    "application/vnd.databricks.v1+cell": {
     "cellMetadata": {
      "byteLimit": 2048000,
      "rowLimit": 10000
     },
     "inputWidgets": {},
     "nuid": "2fa4de8b-bea7-4a93-bce0-7087a5b0e9c9",
     "showTitle": false,
     "title": ""
    }
   },
   "outputs": [
    {
     "name": "stdout",
     "output_type": "stream",
     "text": [
      "+--------------------+-----------+----+-----+--------------------+--------------------+--------------------+--------------------+--------------------+--------------------+---------+\n",
      "|       Tweet Content|Publication|Year|Month|     tokenized_words|       stemmed_words|    lemmatized_words| no_punc_lower_words|               words|        bag_of_words|Sentiment|\n",
      "+--------------------+-----------+----+-----+--------------------+--------------------+--------------------+--------------------+--------------------+--------------------+---------+\n",
      "|Breast cancer ris...|  bbchealth|2015|    4|[Breast, cancer, ...|[breast, cancer, ...|[breast, cancer, ...|[breast, cancer, ...|[[breast,, cancer...|(86721,[31,41,87,...| Positive|\n",
      "|GP workload harmi...|  bbchealth|2015|    4|[GP, workload, ha...|[gp, workload, ha...|[gp, workload, ha...|[gp, workload, ha...|[[gp,, workload,,...|(86721,[0,46,641,...| Positive|\n",
      "|Short people's 'h...|  bbchealth|2015|    4|[Short, people's,...|[short, peopl, ',...|[short, peopl, ',...|[short, peopl, , ...|[[short,, peopl,,...|(86721,[0,41,72,7...| Positive|\n",
      "|New approach agai...|  bbchealth|2015|    4|[New, approach, a...|[new, approach, a...|[new, approach, a...|[new, approach, a...|[[new,, approach,...|(86721,[0,120,257...| Positive|\n",
      "|Coalition 'underm...|  bbchealth|2015|    4|[Coalition, ', un...|[coalit, ', under...|[coalit, ', under...|[coalit, , underm...|[[coalit,, ,, und...|(86721,[0,55,63,3...| Positive|\n",
      "|Review of case ag...|  bbchealth|2015|    4|[Review, of, case...|[review, of, case...|[review, of, case...|[review, of, case...|[[review,, of,, c...|(86721,[5,63,86,2...| Positive|\n",
      "|VIDEO: 'All day i...|  bbchealth|2015|    4|[VIDEO, :, ', All...|[video, :, ', all...|[video, :, ', all...|[video, , , all, ...|[[video,, ,, ,, a...|(86721,[0,1,12,42...| Positive|\n",
      "|VIDEO: 'Overhaul ...|  bbchealth|2015|    4|[VIDEO, :, ', Ove...|[video, :, ', ove...|[video, :, ', ove...|[video, , , overh...|[[video,, ,, ,, o...|(86721,[0,6,46,81...| Positive|\n",
      "|Care for dying 'n...|  bbchealth|2015|    4|[Care, for, dying...|[care, for, die, ...|[care, for, die, ...|[care, for, die, ...|[[care,, for,, di...|(86721,[0,6,81,15...| Positive|\n",
      "|VIDEO: NHS: Labou...|  bbchealth|2015|    4|[VIDEO, :, NHS, :...|[video, :, nhs, :...|[video, :, nh, :,...|[video, , nh, , l...|[[video,, ,, nh,,...|(86721,[0,8,63,11...| Positive|\n",
      "+--------------------+-----------+----+-----+--------------------+--------------------+--------------------+--------------------+--------------------+--------------------+---------+\n",
      "only showing top 10 rows\n",
      "\n"
     ]
    }
   ],
   "source": [
    "# Create an instance of the vader sentiment analyzer\n",
    "analyzer = SentimentIntensityAnalyzer()\n",
    "\n",
    "# define a function to obtain sentiment label for each entity in the feature\n",
    "def analyze_sentiment(words):\n",
    "    scores = analyzer.polarity_scores(' '.join(words))\n",
    "    if scores['compound'] >= 0:\n",
    "        return 'Positive'\n",
    "    else:\n",
    "        return 'Negative'\n",
    "\n",
    "# define the udf for the sentiment and apply it to the no_punc_lower_words feature for the final sentiment labels\n",
    "analyze_sentiment_udf = F.udf(analyze_sentiment, StringType())\n",
    "\n",
    "df = df.withColumn(\"Sentiment\", analyze_sentiment_udf(F.col(\"no_punc_lower_words\")))\n",
    "df.show(10)"
   ]
  },
  {
   "cell_type": "code",
   "execution_count": null,
   "metadata": {
    "application/vnd.databricks.v1+cell": {
     "cellMetadata": {
      "byteLimit": 2048000,
      "rowLimit": 10000
     },
     "inputWidgets": {},
     "nuid": "599af677-6d5d-4f53-927d-25c9a899494c",
     "showTitle": false,
     "title": ""
    }
   },
   "outputs": [
    {
     "name": "stdout",
     "output_type": "stream",
     "text": [
      "+-----------+----+-----+--------------------+---------+\n",
      "|Publication|Year|Month|        bag_of_words|Sentiment|\n",
      "+-----------+----+-----+--------------------+---------+\n",
      "|  bbchealth|2015|    4|(86721,[31,41,87,...| Negative|\n",
      "|  bbchealth|2015|    4|(86721,[0,46,641,...| Negative|\n",
      "|  bbchealth|2015|    4|(86721,[0,41,72,7...| Positive|\n",
      "|  bbchealth|2015|    4|(86721,[0,120,257...| Positive|\n",
      "|  bbchealth|2015|    4|(86721,[0,55,63,3...| Positive|\n",
      "|  bbchealth|2015|    4|(86721,[5,63,86,2...| Positive|\n",
      "|  bbchealth|2015|    4|(86721,[0,1,12,42...| Positive|\n",
      "|  bbchealth|2015|    4|(86721,[0,6,46,81...| Positive|\n",
      "|  bbchealth|2015|    4|(86721,[0,6,81,15...| Negative|\n",
      "|  bbchealth|2015|    4|(86721,[0,8,63,11...| Positive|\n",
      "+-----------+----+-----+--------------------+---------+\n",
      "only showing top 10 rows\n",
      "\n"
     ]
    }
   ],
   "source": [
    "content_df = df.select(F.col(\"Tweet Content\")).toDF(\"content_only\")\n",
    "\n",
    "# Drop all the tweet content related features\n",
    "df = df.drop(\"Tweet Content\", \"tokenized_words\", 'stemmed_words', 'lemmatized_words', 'no_punc_lower_words', 'words')\n",
    "df.show(10)"
   ]
  },
  {
   "attachments": {},
   "cell_type": "markdown",
   "metadata": {
    "application/vnd.databricks.v1+cell": {
     "cellMetadata": {
      "byteLimit": 2048000,
      "rowLimit": 10000
     },
     "inputWidgets": {},
     "nuid": "b02c5180-a4b9-4eb2-a7c4-6e3c554e17fe",
     "showTitle": false,
     "title": ""
    }
   },
   "source": [
    "## Visualisation"
   ]
  },
  {
   "cell_type": "code",
   "execution_count": null,
   "metadata": {
    "application/vnd.databricks.v1+cell": {
     "cellMetadata": {
      "byteLimit": 2048000,
      "rowLimit": 10000
     },
     "inputWidgets": {},
     "nuid": "b9bdb245-4327-4fcc-b584-014090f89844",
     "showTitle": false,
     "title": ""
    }
   },
   "outputs": [
    {
     "data": {
      "image/png": "[encoded data removed]"
     },
     "metadata": {
      "application/vnd.databricks.v1+output": {
       "addedWidgets": {},
       "arguments": {},
       "data": "data:image/png;base64,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\n",
       "datasetInfos": [],
       "metadata": {},
       "removedWidgets": [],
       "type": "image"
      }
     },
     "output_type": "display_data"
    }
   ],
   "source": [
    "# Count the number of each sentiment label\n",
    "sentiment_counts = df.groupBy('Sentiment').count().collect()\n",
    "\n",
    "# Extract the counts and labels into separate lists\n",
    "labels = [row['Sentiment'] for row in sentiment_counts]\n",
    "counts = [row['count'] for row in sentiment_counts]\n",
    "\n",
    "# Create a bar graph\n",
    "fig, ax = plt.subplots()\n",
    "ax.bar(labels, counts)\n",
    "ax.set_title('Sentiment Distribution')\n",
    "ax.set_xlabel('Sentiment Label')\n",
    "ax.set_ylabel('Count')\n",
    "plt.show()"
   ]
  },
  {
   "cell_type": "code",
   "execution_count": null,
   "metadata": {
    "application/vnd.databricks.v1+cell": {
     "cellMetadata": {
      "byteLimit": 2048000,
      "rowLimit": 10000
     },
     "inputWidgets": {},
     "nuid": "f92454bf-d0c8-4c7f-912b-fab926787aef",
     "showTitle": false,
     "title": ""
    }
   },
   "outputs": [
    {
     "data": {
      "text/html": [
       "<style scoped>\n",
       "  .table-result-container {\n",
       "    max-height: 300px;\n",
       "    overflow: auto;\n",
       "  }\n",
       "  table, th, td {\n",
       "    border: 1px solid black;\n",
       "    border-collapse: collapse;\n",
       "  }\n",
       "  th, td {\n",
       "    padding: 5px;\n",
       "  }\n",
       "  th {\n",
       "    text-align: left;\n",
       "  }\n",
       "</style><div class='table-result-container'><table class='table-result'><thead style='background-color: white'><tr><th>Sentiment</th><th>2011</th><th>2012</th><th>2013</th><th>2014</th><th>2015</th></tr></thead><tbody><tr><td>Positive</td><td>1590</td><td>4098</td><td>13790</td><td>18345</td><td>7167</td></tr><tr><td>Negative</td><td>777</td><td>1791</td><td>5208</td><td>7905</td><td>2655</td></tr></tbody></table></div>"
      ]
     },
     "metadata": {
      "application/vnd.databricks.v1+output": {
       "addedWidgets": {},
       "aggData": [],
       "aggError": "",
       "aggOverflow": false,
       "aggSchema": [],
       "aggSeriesLimitReached": false,
       "aggType": "",
       "arguments": {},
       "columnCustomDisplayInfos": {},
       "data": [
        [
         "Positive",
         1590,
         4098,
         13790,
         18345,
         7167
        ],
        [
         "Negative",
         777,
         1791,
         5208,
         7905,
         2655
        ]
       ],
       "datasetInfos": [],
       "dbfsResultPath": null,
       "isJsonSchema": true,
       "metadata": {},
       "overflow": false,
       "plotOptions": {
        "customPlotOptions": {},
        "displayType": "table",
        "pivotAggregation": null,
        "pivotColumns": null,
        "xColumns": null,
        "yColumns": null
       },
       "removedWidgets": [],
       "schema": [
        {
         "metadata": "{}",
         "name": "Sentiment",
         "type": "\"string\""
        },
        {
         "metadata": "{}",
         "name": "2011",
         "type": "\"long\""
        },
        {
         "metadata": "{}",
         "name": "2012",
         "type": "\"long\""
        },
        {
         "metadata": "{}",
         "name": "2013",
         "type": "\"long\""
        },
        {
         "metadata": "{}",
         "name": "2014",
         "type": "\"long\""
        },
        {
         "metadata": "{}",
         "name": "2015",
         "type": "\"long\""
        }
       ],
       "type": "table"
      }
     },
     "output_type": "display_data"
    }
   ],
   "source": [
    "# Group by month and sentiment\n",
    "grouped = df.groupBy(\"Year\", \"Sentiment\").count()\n",
    "\n",
    "# Pivot the table to have months as columns and sentiments as rows\n",
    "pivoted = grouped.groupBy(\"Sentiment\").pivot(\"Year\").sum(\"count\")\n",
    "\n",
    "# Display the plot using Databricks\n",
    "display(pivoted, xlabel=\"Year\", ylabel=\"count\")"
   ]
  },
  {
   "cell_type": "code",
   "execution_count": null,
   "metadata": {
    "application/vnd.databricks.v1+cell": {
     "cellMetadata": {
      "byteLimit": 2048000,
      "rowLimit": 10000
     },
     "inputWidgets": {},
     "nuid": "a231a871-6aaf-4cf4-9637-b52bff592689",
     "showTitle": false,
     "title": ""
    }
   },
   "outputs": [
    {
     "data": {
      "image/png": "[encoded data removed]"
     },
     "metadata": {
      "application/vnd.databricks.v1+output": {
       "addedWidgets": {},
       "arguments": {},
       "data": "data:image/png;base64,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\n",
       "datasetInfos": [],
       "metadata": {},
       "removedWidgets": [],
       "type": "image"
      }
     },
     "output_type": "display_data"
    }
   ],
   "source": [
    "pdf = df.toPandas()\n",
    "\n",
    "# Group by month and sentiment\n",
    "grouped = pdf.groupby(['Year', 'Sentiment']).size().reset_index(name='count')\n",
    "\n",
    "# Pivot the table to have months as columns and sentiments as rows\n",
    "pivoted = grouped.pivot(index='Sentiment', columns='Year', values='count')\n",
    "\n",
    "# Create a bar plot\n",
    "pivoted.plot(kind='bar', cmap='viridis')\n",
    "plt.show()"
   ]
  },
  {
   "cell_type": "code",
   "execution_count": null,
   "metadata": {
    "application/vnd.databricks.v1+cell": {
     "cellMetadata": {
      "byteLimit": 2048000,
      "rowLimit": 10000
     },
     "inputWidgets": {},
     "nuid": "e2953ef0-1c29-476b-a1c1-b9e98440674c",
     "showTitle": false,
     "title": ""
    }
   },
   "outputs": [
    {
     "data": {
      "image/png": "[encoded data removed]"
     },
     "metadata": {
      "application/vnd.databricks.v1+output": {
       "addedWidgets": {},
       "arguments": {},
       "data": "data:image/png;base64,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\n",
       "datasetInfos": [],
       "metadata": {},
       "removedWidgets": [],
       "type": "image"
      }
     },
     "output_type": "display_data"
    }
   ],
   "source": [
    "# Group by month and sentiment\n",
    "grouped = pdf.groupby(['Month', 'Sentiment']).size().reset_index(name='count')\n",
    "\n",
    "# Pivot the table to have months as columns and sentiments as rows\n",
    "pivoted = grouped.pivot(index='Sentiment', columns='Month', values='count')\n",
    "\n",
    "# Create a bar plot\n",
    "pivoted.plot(kind='bar', cmap='viridis')\n",
    "plt.show()"
   ]
  },
  {
   "cell_type": "code",
   "execution_count": null,
   "metadata": {
    "application/vnd.databricks.v1+cell": {
     "cellMetadata": {
      "byteLimit": 2048000,
      "rowLimit": 10000
     },
     "inputWidgets": {},
     "nuid": "49ba1af9-2ba8-4324-afca-55682fd8247a",
     "showTitle": false,
     "title": ""
    }
   },
   "outputs": [
    {
     "name": "stdout",
     "output_type": "stream",
     "text": [
      "['everydayhealth', 'KaiserHealthNews', 'nprhealth', 'usnewshealth', 'bbchealth', 'foxnewshealth', 'cnnhealth', 'latimeshealth', 'goodhealth', 'NBChealth', 'nytimeshealth', 'cbchealth', 'wsjhealth', 'gdnhealthcare', 'msnhealthnews', 'reuters_health']\n"
     ]
    }
   ],
   "source": [
    "# Filter any rows for which the Publication column contains an invalid value\n",
    "options = ['bbchealth', 'cbchealth', 'cnnhealth', 'everydayhealth', 'foxnewshealth', \\\n",
    "  'gdnhealthcare', 'goodhealth', 'KaiserHealthNews', 'latimeshealth', 'msnhealthnews'\\\n",
    "  , 'NBChealth', 'nprhealth', 'nytimeshealth', 'reuters_health', 'usnewshealth', \\\n",
    "  'wsjhealth',]\n",
    "\n",
    "df = df.filter(df['Publication'].isin(options))\n",
    "\n",
    "unique_values = [row.Publication for row in df.select('Publication').distinct().collect()]\n",
    "print(unique_values)"
   ]
  },
  {
   "cell_type": "code",
   "execution_count": null,
   "metadata": {
    "application/vnd.databricks.v1+cell": {
     "cellMetadata": {
      "byteLimit": 2048000,
      "rowLimit": 10000
     },
     "inputWidgets": {},
     "nuid": "71f5714e-d608-4f73-a9d7-04f1a785a669",
     "showTitle": false,
     "title": ""
    }
   },
   "outputs": [
    {
     "data": {
      "image/png": "[encoded data removed]"
     },
     "metadata": {
      "application/vnd.databricks.v1+output": {
       "addedWidgets": {},
       "arguments": {},
       "data": "data:image/png;base64,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\n",
       "datasetInfos": [],
       "metadata": {},
       "removedWidgets": [],
       "type": "image"
      }
     },
     "output_type": "display_data"
    }
   ],
   "source": [
    "# Group the data by 'Publication' and 'Sentiment' and count the number of rows in each group\n",
    "grouped_df = df.groupBy('Publication', 'Sentiment').count()\n",
    "\n",
    "# Sort the data by the order of the publications\n",
    "grouped_df_ordered = grouped_df.orderBy(F.when(F.col('Publication').isin(options), F.col('Publication')).otherwise(F.lit('ZZZ')))\n",
    "\n",
    "# Convert the Spark DataFrame to a Pandas DataFrame for plotting a graph\n",
    "pandas_df = grouped_df_ordered.toPandas()\n",
    "\n",
    "# Pivot the data to create a table with 'Publication' on the X-axis, 'Positive' and 'Negative' on the Y-axis, and the count of rows as the values\n",
    "pivot_df = pandas_df.pivot(index='Publication', columns='Sentiment', values='count').fillna(0)\n",
    "\n",
    "# Create a stacked bar chart using Seaborn\n",
    "sns.set_style(\"whitegrid\")\n",
    "ax = pivot_df.plot(kind='bar', stacked=True, figsize=(10, 6), rot=0, cmap='viridis')\n",
    "ax.set_xlabel(\"Publication\")\n",
    "ax.set_ylabel(\"Count\")\n",
    "ax.legend([\"Negative\", \"Positive\"], loc='upper right')\n",
    "ax.set_xticklabels(ax.get_xticklabels(), rotation=90)\n",
    "sns.despine()\n",
    "\n",
    "# Show the chart\n",
    "plt.show()"
   ]
  },
  {
   "cell_type": "code",
   "execution_count": null,
   "metadata": {
    "application/vnd.databricks.v1+cell": {
     "cellMetadata": {
      "byteLimit": 2048000,
      "rowLimit": 10000
     },
     "inputWidgets": {},
     "nuid": "96b8f34e-4d3b-4bf5-a687-6c09ee4b7754",
     "showTitle": false,
     "title": ""
    }
   },
   "outputs": [],
   "source": [
    "# Convert the Sentiment feature from string to numeric type using StringIndexer\n",
    "labelIndexer = StringIndexer(inputCol=\"Sentiment\", outputCol=\"label\", handleInvalid=\"keep\")\n",
    "df = labelIndexer.fit(df).transform(df)\n",
    "df = df.drop(\"Sentiment\")"
   ]
  },
  {
   "attachments": {},
   "cell_type": "markdown",
   "metadata": {
    "application/vnd.databricks.v1+cell": {
     "cellMetadata": {
      "byteLimit": 2048000,
      "rowLimit": 10000
     },
     "inputWidgets": {},
     "nuid": "09a5df3a-1cc0-4164-b610-15aacb036923",
     "showTitle": false,
     "title": ""
    }
   },
   "source": [
    "## Split Data into Training and Testing Sets"
   ]
  },
  {
   "cell_type": "code",
   "execution_count": null,
   "metadata": {
    "application/vnd.databricks.v1+cell": {
     "cellMetadata": {
      "byteLimit": 2048000,
      "rowLimit": 10000
     },
     "inputWidgets": {},
     "nuid": "42eb36cf-70b1-4b03-b125-ebc7512b3c45",
     "showTitle": false,
     "title": ""
    }
   },
   "outputs": [],
   "source": [
    "# splits the data into 70% for the training set and 30% for the testing set, with a random seed of 134\n",
    "train_data, test_data = df.randomSplit([0.7, 0.3], seed=134)"
   ]
  },
  {
   "cell_type": "code",
   "execution_count": null,
   "metadata": {
    "application/vnd.databricks.v1+cell": {
     "cellMetadata": {
      "byteLimit": 2048000,
      "rowLimit": 10000
     },
     "inputWidgets": {},
     "nuid": "f307b009-433f-4903-afee-b4a0e03db17a",
     "showTitle": false,
     "title": ""
    }
   },
   "outputs": [
    {
     "name": "stdout",
     "output_type": "stream",
     "text": [
      "+-----------+----+-----+--------------------+-----+\n",
      "|Publication|Year|Month|        bag_of_words|label|\n",
      "+-----------+----+-----+--------------------+-----+\n",
      "|  bbchealth|2015|    4|(86721,[31,41,87,...|  1.0|\n",
      "|  bbchealth|2015|    4|(86721,[0,46,641,...|  1.0|\n",
      "|  bbchealth|2015|    4|(86721,[0,41,72,7...|  0.0|\n",
      "|  bbchealth|2015|    4|(86721,[0,120,257...|  0.0|\n",
      "|  bbchealth|2015|    4|(86721,[0,55,63,3...|  0.0|\n",
      "|  bbchealth|2015|    4|(86721,[5,63,86,2...|  0.0|\n",
      "|  bbchealth|2015|    4|(86721,[0,1,12,42...|  0.0|\n",
      "|  bbchealth|2015|    4|(86721,[0,6,46,81...|  0.0|\n",
      "|  bbchealth|2015|    4|(86721,[0,6,81,15...|  1.0|\n",
      "|  bbchealth|2015|    4|(86721,[0,8,63,11...|  0.0|\n",
      "+-----------+----+-----+--------------------+-----+\n",
      "only showing top 10 rows\n",
      "\n"
     ]
    }
   ],
   "source": [
    "df.show(10)"
   ]
  },
  {
   "cell_type": "code",
   "execution_count": null,
   "metadata": {
    "application/vnd.databricks.v1+cell": {
     "cellMetadata": {
      "byteLimit": 2048000,
      "rowLimit": 10000
     },
     "inputWidgets": {},
     "nuid": "c433d3aa-3888-4221-ab32-1466f5f88507",
     "showTitle": false,
     "title": ""
    }
   },
   "outputs": [
    {
     "name": "stdout",
     "output_type": "stream",
     "text": [
      "root\n",
      " |-- Publication: string (nullable = false)\n",
      " |-- Year: integer (nullable = true)\n",
      " |-- Month: integer (nullable = true)\n",
      " |-- bag_of_words: vector (nullable = true)\n",
      " |-- label: double (nullable = false)\n",
      "\n"
     ]
    }
   ],
   "source": [
    "train_data.printSchema()"
   ]
  },
  {
   "attachments": {},
   "cell_type": "markdown",
   "metadata": {
    "application/vnd.databricks.v1+cell": {
     "cellMetadata": {
      "byteLimit": 2048000,
      "rowLimit": 10000
     },
     "inputWidgets": {},
     "nuid": "63e11ff6-c992-4f53-a3f5-31471857e24e",
     "showTitle": false,
     "title": ""
    }
   },
   "source": [
    "## Create Pipelines using Spark ML"
   ]
  },
  {
   "cell_type": "code",
   "execution_count": null,
   "metadata": {
    "application/vnd.databricks.v1+cell": {
     "cellMetadata": {
      "byteLimit": 2048000,
      "rowLimit": 10000
     },
     "inputWidgets": {},
     "nuid": "9c7d16eb-a3d8-4b2a-b656-d3a90dfcfe90",
     "showTitle": false,
     "title": ""
    }
   },
   "outputs": [],
   "source": [
    "# Create a string indexer for publication feature and then drop the original string type feature\n",
    "Publication_indexer = StringIndexer(inputCol=\"Publication\", outputCol=\"Publication_index\", handleInvalid=\"keep\").fit(train_data)\n",
    "train_data = Publication_indexer.transform(train_data).drop(\"Publication\")\n",
    "\n",
    "# One-hot encode the Publication feature\n",
    "encoder = OneHotEncoder(inputCol=\"Publication_index\", outputCol=\"Publication_vec\", handleInvalid=\"keep\")\n",
    "\n",
    "feature_cols = train_data.columns\n",
    "feature_cols.remove('label')\n",
    "\n",
    "# Create vector assembler to combine input features into a single feature vector named 'features'\n",
    "vectorAssembler = VectorAssembler(inputCols=feature_cols, outputCol=\"features\", handleInvalid=\"skip\")"
   ]
  },
  {
   "cell_type": "code",
   "execution_count": null,
   "metadata": {
    "application/vnd.databricks.v1+cell": {
     "cellMetadata": {
      "byteLimit": 2048000,
      "rowLimit": 10000
     },
     "inputWidgets": {},
     "nuid": "27d81838-f994-4dc6-8e14-a90b636da2d5",
     "showTitle": false,
     "title": ""
    }
   },
   "outputs": [],
   "source": [
    "# Define Naive Bayes model\n",
    "nb = NaiveBayes(modelType=\"multinomial\", labelCol=\"label\", featuresCol=\"features\")"
   ]
  },
  {
   "cell_type": "code",
   "execution_count": null,
   "metadata": {
    "application/vnd.databricks.v1+cell": {
     "cellMetadata": {
      "byteLimit": 2048000,
      "rowLimit": 10000
     },
     "inputWidgets": {},
     "nuid": "965830f1-5fa7-4f1d-b83c-142779389752",
     "showTitle": false,
     "title": ""
    }
   },
   "outputs": [],
   "source": [
    "# Define the Decision Tree model\n",
    "dt = DecisionTreeClassifier(maxDepth=2,maxBins=17, labelCol='label', featuresCol='features')"
   ]
  },
  {
   "cell_type": "code",
   "execution_count": null,
   "metadata": {
    "application/vnd.databricks.v1+cell": {
     "cellMetadata": {
      "byteLimit": 2048000,
      "rowLimit": 10000
     },
     "inputWidgets": {},
     "nuid": "3a32db7b-14d8-4dde-a90e-45eeadb36877",
     "showTitle": false,
     "title": ""
    }
   },
   "outputs": [],
   "source": [
    "# Create parameter grid for Naive Bayes model\n",
    "nb_paramGrid = ParamGridBuilder() \\\n",
    "    .addGrid(nb.smoothing, [0.0, 0.2, 0.4, 0.6, 0.8, 1.0]) \\\n",
    "    .build()"
   ]
  },
  {
   "cell_type": "code",
   "execution_count": null,
   "metadata": {
    "application/vnd.databricks.v1+cell": {
     "cellMetadata": {
      "byteLimit": 2048000,
      "rowLimit": 10000
     },
     "inputWidgets": {},
     "nuid": "03e3c3a3-fd9e-43e8-b017-17a4c3e36991",
     "showTitle": false,
     "title": ""
    }
   },
   "outputs": [],
   "source": [
    "# Create parameter grid for Decision Tree model\n",
    "dt_paramGrid = ParamGridBuilder() \\\n",
    "    .addGrid(dt.maxDepth, [2, 5]) \\\n",
    "    .addGrid(dt.maxBins, [32, 64]) \\\n",
    "    .build()"
   ]
  },
  {
   "cell_type": "code",
   "execution_count": null,
   "metadata": {
    "application/vnd.databricks.v1+cell": {
     "cellMetadata": {
      "byteLimit": 2048000,
      "rowLimit": 10000
     },
     "inputWidgets": {},
     "nuid": "2e805472-d46b-47fa-9823-ce76bc42bbef",
     "showTitle": false,
     "title": ""
    }
   },
   "outputs": [],
   "source": [
    "# Define evaluator for evaluating models using f1 score metric\n",
    "evaluator_f1 = MulticlassClassificationEvaluator(labelCol=\"label\", predictionCol=\"prediction\", metricName=\"f1\")"
   ]
  },
  {
   "cell_type": "code",
   "execution_count": null,
   "metadata": {
    "application/vnd.databricks.v1+cell": {
     "cellMetadata": {
      "byteLimit": 2048000,
      "rowLimit": 10000
     },
     "inputWidgets": {},
     "nuid": "2df3dfae-a5f3-4020-b226-ba506faa07da",
     "showTitle": false,
     "title": ""
    }
   },
   "outputs": [],
   "source": [
    "# Define cross-validators for each of the Naive Bayes and Decision Tree methods\n",
    "\n",
    "nb_cv = CrossValidator(estimator=nb, estimatorParamMaps=nb_paramGrid, evaluator=evaluator_f1)\n",
    "\n",
    "dt_cv = CrossValidator(estimator=dt, estimatorParamMaps=dt_paramGrid, evaluator=evaluator_f1)"
   ]
  },
  {
   "cell_type": "code",
   "execution_count": null,
   "metadata": {
    "application/vnd.databricks.v1+cell": {
     "cellMetadata": {
      "byteLimit": 2048000,
      "rowLimit": 10000
     },
     "inputWidgets": {},
     "nuid": "2f12f24c-5554-4df8-bcfd-e854e2e88429",
     "showTitle": false,
     "title": ""
    }
   },
   "outputs": [],
   "source": [
    "# Chain indexers, encoder and model in Pipelines for Naive Bayes and Decision Tree\n",
    "nb_pipeline = Pipeline(stages=[Publication_indexer, encoder, vectorAssembler, nb_cv])\n",
    "\n",
    "dt_pipeline = Pipeline(stages=[Publication_indexer, encoder, vectorAssembler, dt_cv])"
   ]
  },
  {
   "cell_type": "code",
   "execution_count": null,
   "metadata": {
    "application/vnd.databricks.v1+cell": {
     "cellMetadata": {
      "byteLimit": 2048000,
      "rowLimit": 10000
     },
     "inputWidgets": {},
     "nuid": "77c1e004-1ad0-4c82-9ec0-24e2fdba23da",
     "showTitle": false,
     "title": ""
    }
   },
   "outputs": [],
   "source": [
    "# Fit Naive Bayes pipeline to the training data\n",
    "nb_pipelineModel = nb_pipeline.fit(train_data)"
   ]
  },
  {
   "cell_type": "code",
   "execution_count": null,
   "metadata": {
    "application/vnd.databricks.v1+cell": {
     "cellMetadata": {
      "byteLimit": 2048000,
      "rowLimit": 10000
     },
     "inputWidgets": {},
     "nuid": "597a11fe-02be-4755-b23e-4876b15822e4",
     "showTitle": false,
     "title": ""
    }
   },
   "outputs": [],
   "source": [
    "# Fit Decision Tree pipeline to the training data\n",
    "dt_pipelineModel = dt_pipeline.fit(train_data)"
   ]
  },
  {
   "attachments": {},
   "cell_type": "markdown",
   "metadata": {
    "application/vnd.databricks.v1+cell": {
     "cellMetadata": {
      "byteLimit": 2048000,
      "rowLimit": 10000
     },
     "inputWidgets": {},
     "nuid": "e628a7c5-7606-44b5-a8cb-bcb26fcd1604",
     "showTitle": false,
     "title": ""
    }
   },
   "source": [
    "## Evaluate the results"
   ]
  },
  {
   "cell_type": "code",
   "execution_count": null,
   "metadata": {
    "application/vnd.databricks.v1+cell": {
     "cellMetadata": {
      "byteLimit": 2048000,
      "rowLimit": 10000
     },
     "inputWidgets": {},
     "nuid": "a64b0101-1df8-42a6-864e-6737fb07550b",
     "showTitle": false,
     "title": ""
    }
   },
   "outputs": [],
   "source": [
    "# Obtain a set of predictions for Naive Bayes model\n",
    "nb_predictions_f1 = nb_pipelineModel.transform(test_data)"
   ]
  },
  {
   "cell_type": "code",
   "execution_count": null,
   "metadata": {
    "application/vnd.databricks.v1+cell": {
     "cellMetadata": {
      "byteLimit": 2048000,
      "rowLimit": 10000
     },
     "inputWidgets": {},
     "nuid": "92214ab4-69a1-411e-b41f-cdcfe9b8b249",
     "showTitle": false,
     "title": ""
    }
   },
   "outputs": [],
   "source": [
    "# Obtain a set of predictions for Decision Tree model\n",
    "dt_predictions_f1 = dt_pipelineModel.transform(test_data)"
   ]
  },
  {
   "cell_type": "code",
   "execution_count": null,
   "metadata": {
    "application/vnd.databricks.v1+cell": {
     "cellMetadata": {
      "byteLimit": 2048000,
      "rowLimit": 10000
     },
     "inputWidgets": {},
     "nuid": "f0ca7853-2881-442b-8803-82eb36b7e39e",
     "showTitle": false,
     "title": ""
    },
    "scrolled": true
   },
   "outputs": [
    {
     "name": "stdout",
     "output_type": "stream",
     "text": [
      "+--------------------+----------+\n",
      "|        bag_of_words|prediction|\n",
      "+--------------------+----------+\n",
      "|(86721,[1,53,266,...|       1.0|\n",
      "|(86721,[0,1,12,18...|       0.0|\n",
      "|(86721,[0,1,13,16...|       0.0|\n",
      "|(86721,[0,1,39,80...|       0.0|\n",
      "|(86721,[0,1,48,69...|       0.0|\n",
      "|(86721,[0,1,67,27...|       0.0|\n",
      "|(86721,[0,1,72,97...|       0.0|\n",
      "|(86721,[0,1,109,1...|       1.0|\n",
      "|(86721,[0,2,3,4,5...|       0.0|\n",
      "|(86721,[0,2,4,41,...|       1.0|\n",
      "|(86721,[0,2,5,112...|       1.0|\n",
      "|(86721,[0,2,9,22,...|       0.0|\n",
      "|(86721,[0,2,10,63...|       0.0|\n",
      "|(86721,[0,2,27,25...|       0.0|\n",
      "|(86721,[0,3,10,11...|       0.0|\n",
      "|(86721,[0,3,10,12...|       0.0|\n",
      "|(86721,[0,3,26,64...|       1.0|\n",
      "|(86721,[0,3,225,3...|       1.0|\n",
      "|(86721,[0,3,382,4...|       0.0|\n",
      "|(86721,[0,4,31,85...|       1.0|\n",
      "|(86721,[0,4,48,99...|       0.0|\n",
      "|(86721,[0,4,110,1...|       0.0|\n",
      "|(86721,[0,4,110,3...|       0.0|\n",
      "|(86721,[0,6,9,12,...|       0.0|\n",
      "|(86721,[0,6,10,17...|       1.0|\n",
      "+--------------------+----------+\n",
      "only showing top 25 rows\n",
      "\n",
      "+--------------------+----------+\n",
      "|        bag_of_words|prediction|\n",
      "+--------------------+----------+\n",
      "|(86721,[1,53,266,...|       0.0|\n",
      "|(86721,[0,1,12,18...|       0.0|\n",
      "|(86721,[0,1,13,16...|       0.0|\n",
      "|(86721,[0,1,39,80...|       0.0|\n",
      "|(86721,[0,1,48,69...|       0.0|\n",
      "|(86721,[0,1,67,27...|       0.0|\n",
      "|(86721,[0,1,72,97...|       0.0|\n",
      "|(86721,[0,1,109,1...|       0.0|\n",
      "|(86721,[0,2,3,4,5...|       0.0|\n",
      "|(86721,[0,2,4,41,...|       1.0|\n",
      "|(86721,[0,2,5,112...|       0.0|\n",
      "|(86721,[0,2,9,22,...|       0.0|\n",
      "|(86721,[0,2,10,63...|       0.0|\n",
      "|(86721,[0,2,27,25...|       0.0|\n",
      "|(86721,[0,3,10,11...|       0.0|\n",
      "|(86721,[0,3,10,12...|       0.0|\n",
      "|(86721,[0,3,26,64...|       0.0|\n",
      "|(86721,[0,3,225,3...|       0.0|\n",
      "|(86721,[0,3,382,4...|       0.0|\n",
      "|(86721,[0,4,31,85...|       1.0|\n",
      "|(86721,[0,4,48,99...|       0.0|\n",
      "|(86721,[0,4,110,1...|       0.0|\n",
      "|(86721,[0,4,110,3...|       0.0|\n",
      "|(86721,[0,6,9,12,...|       0.0|\n",
      "|(86721,[0,6,10,17...|       0.0|\n",
      "+--------------------+----------+\n",
      "only showing top 25 rows\n",
      "\n"
     ]
    }
   ],
   "source": [
    "# Print the first 25 predictions for each model, comparing the tweet content's bag of words feature and prediction feature\n",
    "nb_predictions_f1.select(\"bag_of_words\", \"prediction\").show(25)\n",
    "\n",
    "dt_predictions_f1.select(\"bag_of_words\", \"prediction\").show(25)"
   ]
  },
  {
   "cell_type": "code",
   "execution_count": null,
   "metadata": {
    "application/vnd.databricks.v1+cell": {
     "cellMetadata": {
      "byteLimit": 2048000,
      "rowLimit": 10000
     },
     "inputWidgets": {},
     "nuid": "6a87dfa4-647b-4b13-9771-12abfca7273c",
     "showTitle": false,
     "title": ""
    }
   },
   "outputs": [],
   "source": [
    "# Obtain f1 score for each model\n",
    "f1_score_bayes = evaluator_f1.evaluate(nb_predictions_f1)\n",
    "\n",
    "f1_score_decision_tree = evaluator_f1.evaluate(dt_predictions_f1)"
   ]
  },
  {
   "cell_type": "code",
   "execution_count": null,
   "metadata": {
    "application/vnd.databricks.v1+cell": {
     "cellMetadata": {
      "byteLimit": 2048000,
      "rowLimit": 10000
     },
     "inputWidgets": {},
     "nuid": "f0eb0fa0-89ed-432e-a214-7f4f61136933",
     "showTitle": false,
     "title": ""
    }
   },
   "outputs": [
    {
     "name": "stdout",
     "output_type": "stream",
     "text": [
      "Naive Bayes F1 Score: 0.8541994525048965\n",
      "Decision Tree F1 Score: 0.743535344021001\n"
     ]
    }
   ],
   "source": [
    "# display the f1 score for both the models\n",
    "print(\"Naive Bayes F1 Score: \" + str(f1_score_bayes))\n",
    "print(\"Decision Tree F1 Score: \" + str(f1_score_decision_tree))"
   ]
  },
  {
   "cell_type": "code",
   "execution_count": null,
   "metadata": {
    "application/vnd.databricks.v1+cell": {
     "cellMetadata": {
      "byteLimit": 2048000,
      "rowLimit": 10000
     },
     "inputWidgets": {},
     "nuid": "6af83ca7-b610-4f55-94f5-07aa0bb5249e",
     "showTitle": false,
     "title": ""
    }
   },
   "outputs": [
    {
     "data": {
      "image/png": "[encoded data removed]"
     },
     "metadata": {
      "application/vnd.databricks.v1+output": {
       "addedWidgets": {},
       "arguments": {},
       "data": "data:image/png;base64,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\n",
       "datasetInfos": [],
       "metadata": {},
       "removedWidgets": [],
       "type": "image"
      }
     },
     "output_type": "display_data"
    }
   ],
   "source": [
    "# Create a confusion matrix of Naive Bayes model for plotting using matplotlib\n",
    "nb_confusion_matrix = nb_predictions_f1.groupBy(\"label\", \"prediction\").count().orderBy(\"label\", \"prediction\").toPandas()\n",
    "nb_confusion_matrix = nb_confusion_matrix.pivot(index=\"label\", columns=\"prediction\", values=\"count\")\n",
    "\n",
    "# Plot the confusion matrix as a heatmap\n",
    "plt.figure(figsize=(6,5))\n",
    "sns.heatmap(nb_confusion_matrix, annot=True, fmt='d', cmap='Blues')\n",
    "plt.xlabel('Predicted labels')\n",
    "plt.ylabel('True labels')\n",
    "plt.title(\"Confusion Matrix for Naive Bayes\")\n",
    "plt.show()"
   ]
  },
  {
   "cell_type": "code",
   "execution_count": null,
   "metadata": {
    "application/vnd.databricks.v1+cell": {
     "cellMetadata": {
      "byteLimit": 2048000,
      "rowLimit": 10000
     },
     "inputWidgets": {},
     "nuid": "930177e4-65c5-4a21-80ef-97bca6b07ce1",
     "showTitle": false,
     "title": ""
    }
   },
   "outputs": [
    {
     "data": {
      "image/png": "[encoded data removed]"
     },
     "metadata": {
      "application/vnd.databricks.v1+output": {
       "addedWidgets": {},
       "arguments": {},
       "data": "data:image/png;base64,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\n",
       "datasetInfos": [],
       "metadata": {},
       "removedWidgets": [],
       "type": "image"
      }
     },
     "output_type": "display_data"
    }
   ],
   "source": [
    "# Create a confusion matrix of Decision Tree model for plotting using matplotlib\n",
    "dt_confusion_matrix = dt_predictions_f1.groupBy(\"label\", \"prediction\").count().orderBy(\"label\", \"prediction\").toPandas()\n",
    "dt_confusion_matrix = dt_confusion_matrix.pivot(index=\"label\", columns=\"prediction\", values=\"count\")\n",
    "\n",
    "# Plot the confusion matrix as a heatmap\n",
    "plt.figure(figsize=(6,5))\n",
    "sns.heatmap(dt_confusion_matrix, annot=True, fmt='d', cmap='Blues')\n",
    "plt.xlabel('Predicted labels')\n",
    "plt.ylabel('True labels')\n",
    "plt.title(\"Confusion Matrix for decision tree\")\n",
    "plt.show()"
   ]
  },
  {
   "cell_type": "code",
   "execution_count": null,
   "metadata": {
    "application/vnd.databricks.v1+cell": {
     "cellMetadata": {
      "byteLimit": 2048000,
      "rowLimit": 10000
     },
     "inputWidgets": {},
     "nuid": "f02e2019-772a-4dcb-adf7-73eab985b2a5",
     "showTitle": false,
     "title": ""
    }
   },
   "outputs": [
    {
     "data": {
      "text/html": [
       "<style scoped>\n",
       "  .ansiout {\n",
       "    display: block;\n",
       "    unicode-bidi: embed;\n",
       "    white-space: pre-wrap;\n",
       "    word-wrap: break-word;\n",
       "    word-break: break-all;\n",
       "    font-family: \"Source Code Pro\", \"Menlo\", monospace;;\n",
       "    font-size: 13px;\n",
       "    color: #555;\n",
       "    margin-left: 4px;\n",
       "    line-height: 19px;\n",
       "  }\n",
       "</style>"
      ]
     },
     "metadata": {
      "application/vnd.databricks.v1+output": {
       "arguments": {},
       "data": "",
       "errorSummary": "Cancelled",
       "errorTraceType": "html",
       "metadata": {},
       "type": "ipynbError"
      }
     },
     "output_type": "display_data"
    }
   ],
   "source": [
    "df.unpersist()"
   ]
  },
  {
   "cell_type": "code",
   "execution_count": null,
   "metadata": {
    "application/vnd.databricks.v1+cell": {
     "cellMetadata": {
      "byteLimit": 2048000,
      "rowLimit": 10000
     },
     "inputWidgets": {},
     "nuid": "50fe47c1-ccf9-4c3f-b3a2-4a20e5fd1e27",
     "showTitle": false,
     "title": ""
    }
   },
   "outputs": [
    {
     "data": {
      "text/html": [
       "<style scoped>\n",
       "  .ansiout {\n",
       "    display: block;\n",
       "    unicode-bidi: embed;\n",
       "    white-space: pre-wrap;\n",
       "    word-wrap: break-word;\n",
       "    word-break: break-all;\n",
       "    font-family: \"Source Code Pro\", \"Menlo\", monospace;;\n",
       "    font-size: 13px;\n",
       "    color: #555;\n",
       "    margin-left: 4px;\n",
       "    line-height: 19px;\n",
       "  }\n",
       "</style>"
      ]
     },
     "metadata": {
      "application/vnd.databricks.v1+output": {
       "arguments": {},
       "data": "",
       "errorSummary": "Cancelled",
       "errorTraceType": "html",
       "metadata": {},
       "type": "ipynbError"
      }
     },
     "output_type": "display_data"
    }
   ],
   "source": [
    "spark.stop()"
   ]
  }
 ],
 "metadata": {
  "application/vnd.databricks.v1+notebook": {
   "dashboards": [],
   "language": "python",
   "notebookMetadata": {
    "pythonIndentUnit": 2
   },
   "notebookName": "Project",
   "widgets": {}
  },
  "kernelspec": {
   "display_name": "Python 3 (ipykernel)",
   "language": "python",
   "name": "python3"
  },
  "language_info": {
   "codemirror_mode": {
    "name": "ipython",
    "version": 3
   },
   "file_extension": ".py",
   "mimetype": "text/x-python",
   "name": "python",
   "nbconvert_exporter": "python",
   "pygments_lexer": "ipython3",
   "version": "3.9.16"
  }
 },
 "nbformat": 4,
 "nbformat_minor": 0
}
